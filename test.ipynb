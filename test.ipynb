{
 "cells": [
  {
   "cell_type": "code",
   "execution_count": 4,
   "id": "fdc20e36",
   "metadata": {},
   "outputs": [
    {
     "data": {
      "text/plain": [
       "(WindowsPath('C:/Users/datat/OneDrive/Books/9th Maths'),\n",
       " WindowsPath('C:/Users/datat/OneDrive/Books/9th_combined'),\n",
       " WindowsPath('C:/Users/datat/OneDrive/Books/9th_combined/9th_maths.pdf'))"
      ]
     },
     "execution_count": 4,
     "metadata": {},
     "output_type": "execute_result"
    }
   ],
   "source": [
    "from pathlib import Path\n",
    "\n",
    "# Your paths (you can change these if needed)\n",
    "input_dir  = Path(r\"C:\\Users\\datat\\OneDrive\\Books\\9th Maths\")\n",
    "output_dir = Path(r\"C:\\Users\\datat\\OneDrive\\Books\\9th_combined\")\n",
    "output_pdf = output_dir / \"9th_maths.pdf\"\n",
    "\n",
    "# Make sure output_dir exists\n",
    "output_dir.mkdir(parents=True, exist_ok=True)\n",
    "\n",
    "input_dir, output_dir, output_pdf\n"
   ]
  },
  {
   "cell_type": "code",
   "execution_count": 5,
   "id": "7713be76",
   "metadata": {},
   "outputs": [],
   "source": [
    "from dataclasses import dataclass, field\n",
    "from typing import List, Iterable, Optional\n",
    "from pypdf import PdfReader, PdfWriter\n",
    "from pypdf.errors import PdfReadError\n",
    "from pathlib import Path\n",
    "import re\n",
    "from tqdm.auto import tqdm\n",
    "\n",
    "def _natural_key(p: Path):\n",
    "    \"\"\"\n",
    "    Natural sort key: splits filename into chunks of digits and non-digits\n",
    "    so 'Chapter 9.pdf' < 'Chapter 10.pdf'.\n",
    "    \"\"\"\n",
    "    parts = re.split(r'(\\d+)', p.stem)\n",
    "    key = []\n",
    "    for part in parts:\n",
    "        if part.isdigit():\n",
    "            key.append(int(part))\n",
    "        else:\n",
    "            key.append(part.lower())\n",
    "    return key, p.suffix.lower()\n",
    "\n",
    "@dataclass\n",
    "class PDFPipeline:\n",
    "    input_dir: Path\n",
    "    output_pdf: Path\n",
    "    include_subfolders: bool = False\n",
    "    order_mode: str = \"natural\"       # \"natural\" or \"alphabetical\"\n",
    "    overwrite: bool = True\n",
    "    skip_errors: bool = True          # skip corrupt/encrypted files if needed\n",
    "    allow_blank_password: bool = True # try blank password on encrypted files\n",
    "    plan: List[Path] = field(default_factory=list)\n",
    "\n",
    "    def _read_order_file(self) -> Optional[List[Path]]:\n",
    "        \"\"\"\n",
    "        If input_dir/ORDER.txt exists, read it line-by-line to get exact order.\n",
    "        Each line should be a filename relative to input_dir.\n",
    "        \"\"\"\n",
    "        order_file = self.input_dir / \"ORDER.txt\"\n",
    "        if not order_file.exists():\n",
    "            return None\n",
    "        lines = [ln.strip() for ln in order_file.read_text(encoding=\"utf-8\").splitlines() if ln.strip()]\n",
    "        resolved = []\n",
    "        for ln in lines:\n",
    "            candidate = (self.input_dir / ln).resolve()\n",
    "            if candidate.exists() and candidate.suffix.lower() == \".pdf\":\n",
    "                resolved.append(candidate)\n",
    "        return resolved if resolved else None\n",
    "\n",
    "    def discover(self) -> List[Path]:\n",
    "        \"\"\"\n",
    "        Find PDFs in the input_dir (optionally subfolders).\n",
    "        \"\"\"\n",
    "        if self.include_subfolders:\n",
    "            files = list(self.input_dir.rglob(\"*.pdf\"))\n",
    "        else:\n",
    "            files = list(self.input_dir.glob(\"*.pdf\"))\n",
    "        files = [f.resolve() for f in files]\n",
    "        return files\n",
    "\n",
    "    def order(self, files: Iterable[Path]) -> List[Path]:\n",
    "        \"\"\"\n",
    "        Determine the order of PDFs.\n",
    "        Priority:\n",
    "        1) ORDER.txt if present\n",
    "        2) order_mode: 'natural' (default) or 'alphabetical'\n",
    "        \"\"\"\n",
    "        order_from_file = self._read_order_file()\n",
    "        if order_from_file:\n",
    "            # Use only files that actually exist in discovered set\n",
    "            discovered = {f.resolve() for f in files}\n",
    "            ordered = [p for p in order_from_file if p in discovered]\n",
    "        else:\n",
    "            if self.order_mode == \"alphabetical\":\n",
    "                ordered = sorted(files, key=lambda p: (p.name.lower(), p.suffix.lower()))\n",
    "            else:  # natural\n",
    "                ordered = sorted(files, key=_natural_key)\n",
    "        self.plan = ordered\n",
    "        return ordered\n",
    "\n",
    "    def _append_pdf(self, writer: PdfWriter, pdf_path: Path) -> int:\n",
    "        \"\"\"\n",
    "        Append pages from a single PDF into the writer.\n",
    "        Returns number of pages appended.\n",
    "        \"\"\"\n",
    "        try:\n",
    "            with open(pdf_path, \"rb\") as fh:\n",
    "                reader = PdfReader(fh, strict=False)\n",
    "                if getattr(reader, \"is_encrypted\", False):\n",
    "                    # Try blank password if allowed\n",
    "                    if self.allow_blank_password:\n",
    "                        try:\n",
    "                            reader.decrypt(\"\")\n",
    "                        except Exception:\n",
    "                            if not self.skip_errors:\n",
    "                                raise\n",
    "                            return 0\n",
    "                    else:\n",
    "                        if not self.skip_errors:\n",
    "                            raise PdfReadError(f\"Encrypted file: {pdf_path}\")\n",
    "                        return 0\n",
    "\n",
    "                count_before = len(writer.pages)\n",
    "                for page in reader.pages:\n",
    "                    writer.add_page(page)\n",
    "                return len(writer.pages) - count_before\n",
    "\n",
    "        except Exception as e:\n",
    "            if not self.skip_errors:\n",
    "                raise\n",
    "            print(f\"[WARN] Skipping '{pdf_path.name}': {e}\")\n",
    "            return 0\n",
    "\n",
    "    def combine(self) -> dict:\n",
    "        \"\"\"\n",
    "        Combine PDFs according to self.plan and write output.\n",
    "        Returns a small report dict.\n",
    "        \"\"\"\n",
    "        if not self.plan:\n",
    "            raise ValueError(\"No plan available. Run discover() and order() first or run run(dry_run=True) to preview.\")\n",
    "\n",
    "        if self.output_pdf.exists() and not self.overwrite:\n",
    "            raise FileExistsError(f\"Output already exists and overwrite=False: {self.output_pdf}\")\n",
    "\n",
    "        writer = PdfWriter()\n",
    "        total_pages = 0\n",
    "        used_files = 0\n",
    "\n",
    "        for pdf in tqdm(self.plan, desc=\"Merging PDFs\"):\n",
    "            added = self._append_pdf(writer, pdf)\n",
    "            if added > 0:\n",
    "                total_pages += added\n",
    "                used_files += 1\n",
    "\n",
    "        with open(self.output_pdf, \"wb\") as out_f:\n",
    "            writer.write(out_f)\n",
    "\n",
    "        return {\n",
    "            \"files_merged\": used_files,\n",
    "            \"total_pages\": total_pages,\n",
    "            \"output\": str(self.output_pdf)\n",
    "        }\n",
    "\n",
    "    def run(self, dry_run: bool = False) -> List[Path] | dict:\n",
    "        \"\"\"\n",
    "        Orchestrate: discover -> order -> (optionally) combine.\n",
    "        If dry_run=True: returns the ordered file list (no write).\n",
    "        Else: merges and returns a report dict.\n",
    "        \"\"\"\n",
    "        files = self.discover()\n",
    "        ordered = self.order(files)\n",
    "        if dry_run:\n",
    "            return ordered\n",
    "        return self.combine()\n"
   ]
  },
  {
   "cell_type": "code",
   "execution_count": 6,
   "id": "49fe20e2",
   "metadata": {},
   "outputs": [
    {
     "name": "stdout",
     "output_type": "stream",
     "text": [
      "Found 16 PDFs. Merge order:\n",
      "  1. iemh1ps.pdf\n",
      "  2. iemh101.pdf\n",
      "  3. iemh102.pdf\n",
      "  4. iemh103.pdf\n",
      "  5. iemh104.pdf\n",
      "  6. iemh105.pdf\n",
      "  7. iemh106.pdf\n",
      "  8. iemh107.pdf\n",
      "  9. iemh108.pdf\n",
      " 10. iemh109.pdf\n",
      " 11. iemh110.pdf\n",
      " 12. iemh111.pdf\n",
      " 13. iemh112.pdf\n",
      " 14. Z_iemh1a1.pdf\n",
      " 15. Z_iemh1a2.pdf\n",
      " 16. Z_iemh1an.pdf\n"
     ]
    }
   ],
   "source": [
    "\n",
    "pipeline = PDFPipeline(\n",
    "    input_dir=input_dir,\n",
    "    output_pdf=output_pdf,\n",
    "    include_subfolders=False,  # set True if you want to include nested folders\n",
    "    order_mode=\"natural\",      # \"natural\" or \"alphabetical\"\n",
    "    overwrite=True,            # set False to avoid accidental overwrite\n",
    "    skip_errors=True,          # skip bad/encrypted files\n",
    "    allow_blank_password=True  # try blank password for encrypted files\n",
    ")\n",
    "\n",
    "preview_list = pipeline.run(dry_run=True)\n",
    "print(f\"Found {len(preview_list)} PDFs. Merge order:\")\n",
    "for i, p in enumerate(preview_list, 1):\n",
    "    print(f\"{i:>3}. {p.name}\")\n"
   ]
  },
  {
   "cell_type": "code",
   "execution_count": 7,
   "id": "a60eb169",
   "metadata": {},
   "outputs": [
    {
     "data": {
      "application/vnd.jupyter.widget-view+json": {
       "model_id": "eb26f28e222f4241a204108ead42483e",
       "version_major": 2,
       "version_minor": 0
      },
      "text/plain": [
       "Merging PDFs:   0%|          | 0/16 [00:00<?, ?it/s]"
      ]
     },
     "metadata": {},
     "output_type": "display_data"
    },
    {
     "data": {
      "text/plain": [
       "{'files_merged': 16,\n",
       " 'total_pages': 232,\n",
       " 'output': 'C:\\\\Users\\\\datat\\\\OneDrive\\\\Books\\\\9th_combined\\\\9th_maths.pdf'}"
      ]
     },
     "execution_count": 7,
     "metadata": {},
     "output_type": "execute_result"
    }
   ],
   "source": [
    "report = pipeline.run(dry_run=False)\n",
    "report\n"
   ]
  },
  {
   "cell_type": "code",
   "execution_count": 8,
   "id": "1eb06be8",
   "metadata": {},
   "outputs": [
    {
     "name": "stdout",
     "output_type": "stream",
     "text": [
      "Output exists: True | Pages: 232\n"
     ]
    }
   ],
   "source": [
    "from pypdf import PdfReader\n",
    "r = PdfReader(str(output_pdf))\n",
    "print(f\"Output exists: {output_pdf.exists()} | Pages: {len(r.pages)}\")\n"
   ]
  },
  {
   "cell_type": "code",
   "execution_count": null,
   "id": "4afcf6d0",
   "metadata": {},
   "outputs": [],
   "source": []
  }
 ],
 "metadata": {
  "kernelspec": {
   "display_name": "mktdata_py310",
   "language": "python",
   "name": "python3"
  },
  "language_info": {
   "codemirror_mode": {
    "name": "ipython",
    "version": 3
   },
   "file_extension": ".py",
   "mimetype": "text/x-python",
   "name": "python",
   "nbconvert_exporter": "python",
   "pygments_lexer": "ipython3",
   "version": "3.10.15"
  }
 },
 "nbformat": 4,
 "nbformat_minor": 5
}
